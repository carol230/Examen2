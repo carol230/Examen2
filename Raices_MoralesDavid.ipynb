{
 "cells": [
  {
   "cell_type": "code",
   "execution_count": 14,
   "metadata": {},
   "outputs": [
    {
     "name": "stdout",
     "output_type": "stream",
     "text": [
      "La raíz del polinomio en el rango (-3, -1) es: -2.0\n",
      "La raíz del polinomio en el rango (0, 2) es: 1.0\n",
      "La raíz del polinomio en el rango (4, 6) es: 5.0\n"
     ]
    }
   ],
   "source": [
    "from scipy import optimize\n",
    "\n",
    "def f(x):\n",
    "    return x**5 - 6*x**4 + 2*x**3 + 20*x**2 - 27*x + 10\n",
    "\n",
    "ranges = [(-3, -1), (0, 2), (4 , 6)]\n",
    "\n",
    "for r in ranges:\n",
    "    root = optimize.bisect(f, r[0], r[1])\n",
    "    print(\"La raíz del polinomio en el rango\", r, \"es:\", root)\n"
   ]
  },
  {
   "cell_type": "code",
   "execution_count": null,
   "metadata": {},
   "outputs": [],
   "source": []
  }
 ],
 "metadata": {
  "kernelspec": {
   "display_name": "Python 3",
   "language": "python",
   "name": "python3"
  },
  "language_info": {
   "codemirror_mode": {
    "name": "ipython",
    "version": 3
   },
   "file_extension": ".py",
   "mimetype": "text/x-python",
   "name": "python",
   "nbconvert_exporter": "python",
   "pygments_lexer": "ipython3",
   "version": "3.13.0"
  }
 },
 "nbformat": 4,
 "nbformat_minor": 2
}
